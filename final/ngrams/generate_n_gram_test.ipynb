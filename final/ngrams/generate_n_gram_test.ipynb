{
 "cells": [
  {
   "cell_type": "code",
   "execution_count": 9,
   "id": "8698462ae7acaeb7",
   "metadata": {
    "ExecuteTime": {
     "end_time": "2023-12-26T07:53:00.106543600Z",
     "start_time": "2023-12-26T07:52:57.970186600Z"
    },
    "collapsed": false
   },
   "outputs": [],
   "source": [
    "import pandas as pd\n",
    "\n",
    "# index, session_id, song_id, unix_played_at, play_status, login_type, listening_order\n",
    "train_source = pd.read_parquet(\"../../datagame-2023/label_train_source.parquet\")\n",
    "# index, session_id, song_id, unix_played_at, play_status, login_type, listening_order\n",
    "train_target = pd.read_parquet(\"../../datagame-2023/label_train_target.parquet\")\n",
    "# index, session_id, song_id, unix_played_at, play_status, login_type, listening_order\n",
    "test_source = pd.read_parquet(\"../../datagame-2023/label_test_source.parquet\")"
   ]
  },
  {
   "cell_type": "code",
   "execution_count": 10,
   "id": "4097b50c6d00eb",
   "metadata": {
    "ExecuteTime": {
     "end_time": "2023-12-26T07:53:00.414790800Z",
     "start_time": "2023-12-26T07:53:00.107546Z"
    },
    "collapsed": false
   },
   "outputs": [],
   "source": [
    "all_data = pd.concat([train_source, train_target, test_source])"
   ]
  },
  {
   "cell_type": "code",
   "execution_count": 11,
   "id": "1a7435128095e37a",
   "metadata": {
    "ExecuteTime": {
     "end_time": "2023-12-26T07:53:12.187338Z",
     "start_time": "2023-12-26T07:53:00.417793Z"
    },
    "collapsed": false
   },
   "outputs": [],
   "source": [
    "session_to_songs = all_data.sort_values(by=['session_id', 'listening_order']).groupby('session_id')['song_id'].apply(\n",
    "    list).to_dict()"
   ]
  },
  {
   "cell_type": "code",
   "execution_count": 12,
   "id": "52982ece401580ed",
   "metadata": {
    "ExecuteTime": {
     "end_time": "2023-12-26T07:53:12.192850200Z",
     "start_time": "2023-12-26T07:53:12.187338Z"
    },
    "collapsed": false
   },
   "outputs": [],
   "source": [
    "data = session_to_songs"
   ]
  },
  {
   "cell_type": "code",
   "execution_count": 13,
   "id": "3d258c5af2dbfb37",
   "metadata": {
    "ExecuteTime": {
     "end_time": "2023-12-26T07:53:12.791500200Z",
     "start_time": "2023-12-26T07:53:12.192850200Z"
    },
    "collapsed": false
   },
   "outputs": [
    {
     "data": {
      "text/plain": [
       "'END'"
      ]
     },
     "execution_count": 13,
     "metadata": {},
     "output_type": "execute_result"
    }
   ],
   "source": [
    "# 在每位用戶的歌曲序列結尾添加一個特殊的標記，表示歌曲序列的結束\n",
    "for user_songs in data.values():\n",
    "    user_songs.append('END')\n",
    "    user_songs.append('END')\n",
    "    user_songs.append('END')\n",
    "    user_songs.append('END')\n",
    "    user_songs.append('END')\n",
    "\n",
    "# 將所有用戶的歌曲序列合併為一個大列表\n",
    "all_songs = [song for songs in data.values() for song in songs]\n",
    "all_songs[25]"
   ]
  },
  {
   "cell_type": "code",
   "execution_count": 14,
   "id": "ed3a0f7f1b19170a",
   "metadata": {
    "ExecuteTime": {
     "end_time": "2023-12-26T07:53:12.902218100Z",
     "start_time": "2023-12-26T07:53:12.898214800Z"
    },
    "collapsed": false
   },
   "outputs": [
    {
     "name": "stdout",
     "output_type": "stream",
     "text": [
      "[('sample2', 1.06), ('sample1', 1)]\n",
      "[('sample1', 1.13)]\n"
     ]
    }
   ],
   "source": [
    "from collections import Counter\n",
    "\n",
    "\n",
    "class myConditionalFreqDist:\n",
    "    def __init__(self):\n",
    "        self._data = {}\n",
    "        self.values = [1, 0.63, 0.5, 0.43, 0.38]  # ndcg 的加權分數\n",
    "\n",
    "    def __getitem__(self, key):\n",
    "        return self._data.get(key, {})\n",
    "\n",
    "    def __setitem__(self, key, value):\n",
    "        self._data[key] = value\n",
    "\n",
    "    def inc(self, condition, sample, index):\n",
    "        if condition in self._data:\n",
    "            if sample in self._data[condition]:\n",
    "                self._data[condition][sample] += self.values[index]\n",
    "            else:\n",
    "                self._data[condition][sample] = self.values[index]\n",
    "        else:\n",
    "            self._data[condition] = {sample: self.values[index]}\n",
    "\n",
    "    def most_common(self, condition, n=None):\n",
    "        if condition in self._data:\n",
    "            counter = Counter(self._data[condition])\n",
    "            return counter.most_common(n)\n",
    "        else:\n",
    "            return []\n",
    "\n",
    "\n",
    "cfd = myConditionalFreqDist()\n",
    "cfd.inc('condition1', 'sample1', 0)\n",
    "cfd.inc('condition1', 'sample2', 1)\n",
    "cfd.inc('condition1', 'sample2', 3)\n",
    "cfd.inc('condition2', 'sample1', 1)\n",
    "cfd.inc('condition2', 'sample1', 2)\n",
    "cfd.inc('condition2', 'sample2', 1)\n",
    "\n",
    "print(cfd.most_common('condition1'))  # 輸出：[('sample2', 1.06), ('sample1', 1)]\n",
    "print(cfd.most_common('condition2', n=1))  # 輸出：[('sample1', 1.13)]\n"
   ]
  },
  {
   "cell_type": "code",
   "execution_count": 15,
   "id": "88ee3767942e20a",
   "metadata": {
    "ExecuteTime": {
     "end_time": "2023-12-26T07:54:10.583401500Z",
     "start_time": "2023-12-26T07:53:12.903219400Z"
    },
    "collapsed": false
   },
   "outputs": [
    {
     "name": "stderr",
     "output_type": "stream",
     "text": [
      "100%|██████████| 20744361/20744361 [01:07<00:00, 306221.84it/s]\n"
     ]
    }
   ],
   "source": [
    "from tqdm import tqdm\n",
    "\n",
    "cfd_5grams = myConditionalFreqDist()\n",
    "\n",
    "for i in tqdm(range(len(all_songs) - 9)):\n",
    "    for j in range(4, 9):\n",
    "        if (all_songs[i] != 'END' and all_songs[i + 1] != 'END' and all_songs[i + 2] != 'END' \n",
    "                and all_songs[i + 3] != 'END' and all_songs[i + j] != 'END'):\n",
    "            cfd_5grams.inc(all_songs[i] + all_songs[i + 1] + all_songs[i + 2] + all_songs[i + 3], all_songs[i + j], j - 4)"
   ]
  },
  {
   "cell_type": "code",
   "execution_count": 16,
   "id": "279f033670f5ca2e",
   "metadata": {
    "ExecuteTime": {
     "end_time": "2023-12-26T07:54:23.534037700Z",
     "start_time": "2023-12-26T07:54:10.623939400Z"
    },
    "collapsed": false
   },
   "outputs": [],
   "source": [
    "import pickle\n",
    "\n",
    "with open('cfd_5grams_test', 'wb') as file:\n",
    "    pickle.dump(cfd_5grams, file)"
   ]
  },
  {
   "cell_type": "code",
   "execution_count": 17,
   "id": "7bc9bf6731c632cb",
   "metadata": {
    "ExecuteTime": {
     "end_time": "2023-12-26T07:54:24.365738800Z",
     "start_time": "2023-12-26T07:54:23.581756100Z"
    },
    "collapsed": false
   },
   "outputs": [],
   "source": [
    "del cfd_5grams"
   ]
  },
  {
   "cell_type": "code",
   "execution_count": 18,
   "id": "389464a1af2b0e0f",
   "metadata": {
    "ExecuteTime": {
     "end_time": "2023-12-26T07:55:16.282066900Z",
     "start_time": "2023-12-26T07:54:24.364737200Z"
    },
    "collapsed": false
   },
   "outputs": [
    {
     "name": "stderr",
     "output_type": "stream",
     "text": [
      "100%|██████████| 20744362/20744362 [00:59<00:00, 347187.90it/s]\n"
     ]
    }
   ],
   "source": [
    "from tqdm import tqdm\n",
    "\n",
    "cfd_4grams = myConditionalFreqDist()\n",
    "\n",
    "for i in tqdm(range(len(all_songs) - 8)):\n",
    "    for j in range(3, 8):\n",
    "        if (all_songs[i] != 'END' and all_songs[i + 1] != 'END' \n",
    "                and all_songs[i + 2] != 'END' and all_songs[i + j] != 'END'):\n",
    "            cfd_4grams.inc(all_songs[i] + all_songs[i + 1] + all_songs[i + 2], all_songs[i + j], j - 3)"
   ]
  },
  {
   "cell_type": "code",
   "execution_count": 19,
   "id": "6541c22c182e9f99",
   "metadata": {
    "ExecuteTime": {
     "end_time": "2023-12-26T07:55:28.765560800Z",
     "start_time": "2023-12-26T07:55:16.281024500Z"
    },
    "collapsed": false
   },
   "outputs": [],
   "source": [
    "import pickle\n",
    "\n",
    "with open('cfd_4grams_test', 'wb') as file:\n",
    "    pickle.dump(cfd_4grams, file)"
   ]
  },
  {
   "cell_type": "code",
   "execution_count": 20,
   "id": "c6ad2a6f5a03512c",
   "metadata": {
    "ExecuteTime": {
     "end_time": "2023-12-26T07:55:29.691517700Z",
     "start_time": "2023-12-26T07:55:29.687517500Z"
    },
    "collapsed": false
   },
   "outputs": [],
   "source": [
    "del cfd_4grams"
   ]
  },
  {
   "cell_type": "code",
   "execution_count": 21,
   "id": "9981a82e96ac6b4",
   "metadata": {
    "ExecuteTime": {
     "end_time": "2023-12-26T07:56:14.580027700Z",
     "start_time": "2023-12-26T07:55:29.694584700Z"
    },
    "collapsed": false
   },
   "outputs": [
    {
     "name": "stderr",
     "output_type": "stream",
     "text": [
      "100%|██████████| 20744363/20744363 [00:53<00:00, 386134.29it/s]\n"
     ]
    }
   ],
   "source": [
    "from tqdm import tqdm\n",
    "\n",
    "cfd_3grams = myConditionalFreqDist()\n",
    "\n",
    "for i in tqdm(range(len(all_songs) - 7)):\n",
    "    for j in range(2, 7):\n",
    "        if all_songs[i] != 'END' and all_songs[i + 1] != 'END' and all_songs[i + j] != 'END':\n",
    "            cfd_3grams.inc(all_songs[i] + all_songs[i + 1], all_songs[i + j], j - 2)"
   ]
  },
  {
   "cell_type": "code",
   "execution_count": 22,
   "id": "df93a733080efbee",
   "metadata": {
    "ExecuteTime": {
     "end_time": "2023-12-26T07:56:24.588642100Z",
     "start_time": "2023-12-26T07:56:14.624673400Z"
    },
    "collapsed": false
   },
   "outputs": [],
   "source": [
    "import pickle\n",
    "\n",
    "with open('cfd_3grams_test', 'wb') as file:\n",
    "    pickle.dump(cfd_3grams, file)"
   ]
  },
  {
   "cell_type": "code",
   "execution_count": 23,
   "id": "7af93f1a2612808f",
   "metadata": {
    "ExecuteTime": {
     "end_time": "2023-12-26T07:56:24.638880400Z",
     "start_time": "2023-12-26T07:56:24.590637500Z"
    },
    "collapsed": false
   },
   "outputs": [],
   "source": [
    "del cfd_3grams"
   ]
  }
 ],
 "metadata": {
  "kernelspec": {
   "display_name": "Python 3",
   "language": "python",
   "name": "python3"
  },
  "language_info": {
   "codemirror_mode": {
    "name": "ipython",
    "version": 3
   },
   "file_extension": ".py",
   "mimetype": "text/x-python",
   "name": "python",
   "nbconvert_exporter": "python",
   "pygments_lexer": "ipython3",
   "version": "3.11.5"
  }
 },
 "nbformat": 4,
 "nbformat_minor": 5
}
