{
 "cells": [
  {
   "cell_type": "code",
   "execution_count": 1,
   "metadata": {
    "ExecuteTime": {
     "end_time": "2023-12-26T05:56:43.535098Z",
     "start_time": "2023-12-26T05:56:43.297857800Z"
    }
   },
   "outputs": [],
   "source": [
    "import pandas as pd\n",
    "from tqdm import tqdm"
   ]
  },
  {
   "cell_type": "code",
   "execution_count": 2,
   "metadata": {
    "ExecuteTime": {
     "end_time": "2023-12-26T05:56:46.163490800Z",
     "start_time": "2023-12-26T05:56:43.539327600Z"
    }
   },
   "outputs": [],
   "source": [
    "# index, session_id, song_id, unix_played_at, play_status, login_type, listening_order\n",
    "train_source = pd.read_parquet(\"../../datagame-2023/label_train_source.parquet\")\n",
    "# index, session_id, song_id, unix_played_at, play_status, login_type, listening_order\n",
    "train_target = pd.read_parquet(\"../../datagame-2023/label_train_target.parquet\")\n",
    "# index, session_id, song_id, unix_played_at, play_status, login_type, listening_order\n",
    "test_source = pd.read_parquet(\"../../datagame-2023/label_test_source.parquet\")\n",
    "# index, song_id, artist_id, song_length, album_id, language_id, album_month\n",
    "meta_song = pd.read_parquet(\"../../datagame-2023/meta_song.parquet\")\n",
    "# index, song_id, composer_id\n",
    "meta_song_composer = pd.read_parquet(\"../../datagame-2023/meta_song_composer.parquet\")\n",
    "# index, song_id, genre_id\n",
    "meta_song_genre = pd.read_parquet(\"../../datagame-2023/meta_song_genre.parquet\")\n",
    "# index, song_id, lyricist_id\n",
    "meta_song_lyricist = pd.read_parquet(\"../../datagame-2023/meta_song_lyricist.parquet\")\n",
    "# index, song_id, producer_id\n",
    "meta_song_producer = pd.read_parquet(\"../../datagame-2023/meta_song_producer.parquet\")\n",
    "# index, song_id, title_text_id\n",
    "meta_song_titletext = pd.read_parquet(\"../../datagame-2023/meta_song_titletext.parquet\")"
   ]
  },
  {
   "cell_type": "code",
   "execution_count": 3,
   "metadata": {
    "ExecuteTime": {
     "end_time": "2023-12-26T05:56:52.678425200Z",
     "start_time": "2023-12-26T05:56:46.166576800Z"
    }
   },
   "outputs": [
    {
     "name": "stderr",
     "output_type": "stream",
     "text": [
      "100%|██████████| 143064/143064 [00:05<00:00, 25183.46it/s]\n"
     ]
    }
   ],
   "source": [
    "# Preparse session's songs\n",
    "from collections import defaultdict\n",
    "\n",
    "session_to_songs = defaultdict(list)  # key -> session_id, value -> songs\n",
    "\n",
    "test_source = test_source.sort_values(by=['session_id', 'listening_order'])\n",
    "\n",
    "group_by_session = test_source.groupby('session_id')\n",
    "\n",
    "for _, group_song in tqdm(group_by_session):\n",
    "    session_id = group_song['session_id'].iloc[0]\n",
    "    session_to_songs[session_id] = group_song['song_id'].tolist()"
   ]
  },
  {
   "cell_type": "code",
   "execution_count": 4,
   "metadata": {
    "ExecuteTime": {
     "end_time": "2023-12-26T05:56:56.063276300Z",
     "start_time": "2023-12-26T05:56:52.680473500Z"
    },
    "collapsed": false
   },
   "outputs": [
    {
     "name": "stderr",
     "output_type": "stream",
     "text": [
      "100%|██████████| 2861295/2861295 [00:02<00:00, 1167207.83it/s]\n",
      "100%|██████████| 2861280/2861280 [00:02<00:00, 1194009.41it/s]\n"
     ]
    }
   ],
   "source": [
    "session_to_time = dict()\n",
    "for row in tqdm(train_target.itertuples(), total=len(train_target)):\n",
    "    session_to_time[row.session_id] = row.unix_played_at\n",
    "for row in tqdm(test_source.itertuples(), total=len(test_source)):\n",
    "    session_to_time[row.session_id] = row.unix_played_at"
   ]
  },
  {
   "cell_type": "code",
   "execution_count": 5,
   "metadata": {
    "ExecuteTime": {
     "end_time": "2023-12-26T05:56:56.072486900Z",
     "start_time": "2023-12-26T05:56:56.068476400Z"
    },
    "collapsed": false
   },
   "outputs": [
    {
     "data": {
      "text/plain": [
       "1664085793"
      ]
     },
     "execution_count": 5,
     "metadata": {},
     "output_type": "execute_result"
    }
   ],
   "source": [
    "session_to_time[8]"
   ]
  },
  {
   "cell_type": "code",
   "execution_count": 6,
   "metadata": {
    "ExecuteTime": {
     "end_time": "2023-12-26T05:57:02.361314500Z",
     "start_time": "2023-12-26T05:56:56.072486900Z"
    },
    "collapsed": false
   },
   "outputs": [
    {
     "name": "stderr",
     "output_type": "stream",
     "text": [
      "100%|██████████| 143064/143064 [00:05<00:00, 25235.40it/s]\n"
     ]
    }
   ],
   "source": [
    "# Preparse session's songs\n",
    "from collections import defaultdict\n",
    "\n",
    "session_to_songs = defaultdict(list)  # key -> session_id, value -> songs\n",
    "\n",
    "test_source = test_source.sort_values(by=['session_id', 'listening_order'])\n",
    "\n",
    "group_by_session = test_source.groupby('session_id')\n",
    "\n",
    "for _, group_song in tqdm(group_by_session):\n",
    "    session_id = group_song['session_id'].iloc[0]\n",
    "    session_to_songs[session_id] = group_song['song_id'].tolist()"
   ]
  },
  {
   "cell_type": "code",
   "execution_count": 7,
   "metadata": {},
   "outputs": [
    {
     "name": "stdout",
     "output_type": "stream",
     "text": [
      "Collecting pyserini\n",
      "  Obtaining dependency information for pyserini from https://files.pythonhosted.org/packages/6f/db/4f3546fa486e621065a2559d78b1b9dc849be8db08030f294ee45cc32978/pyserini-0.36.0-py3-none-any.whl.metadata\n",
      "  Using cached pyserini-0.36.0-py3-none-any.whl.metadata (5.7 kB)\n",
      "Collecting Cython>=0.29.21 (from pyserini)\n",
      "  Obtaining dependency information for Cython>=0.29.21 from https://files.pythonhosted.org/packages/18/ec/f47a721071d084d6c2b6783eb8d058b964b1450cb708d920d0d792f42001/Cython-3.0.10-cp311-cp311-win_amd64.whl.metadata\n",
      "  Using cached Cython-3.0.10-cp311-cp311-win_amd64.whl.metadata (3.2 kB)\n",
      "Requirement already satisfied: numpy>=1.18.1 in c:\\users\\user\\anaconda3\\lib\\site-packages (from pyserini) (1.24.3)\n",
      "Requirement already satisfied: pandas>=1.4.0 in c:\\users\\user\\anaconda3\\lib\\site-packages (from pyserini) (2.0.3)\n",
      "Collecting pyjnius>=1.4.0 (from pyserini)\n",
      "  Obtaining dependency information for pyjnius>=1.4.0 from https://files.pythonhosted.org/packages/76/7f/2d5d17008d801739a366effef1f9b8245a54b50adbbd804d70005aa7e5e1/pyjnius-1.6.1-cp311-cp311-win_amd64.whl.metadata\n",
      "  Using cached pyjnius-1.6.1-cp311-cp311-win_amd64.whl.metadata (10 kB)\n",
      "Requirement already satisfied: scikit-learn>=0.22.1 in c:\\users\\user\\anaconda3\\lib\\site-packages (from pyserini) (1.4.2)\n",
      "Requirement already satisfied: scipy>=1.4.1 in c:\\users\\user\\anaconda3\\lib\\site-packages (from pyserini) (1.11.1)\n",
      "Requirement already satisfied: tqdm in c:\\users\\user\\anaconda3\\lib\\site-packages (from pyserini) (4.65.0)\n",
      "Requirement already satisfied: transformers>=4.6.0 in c:\\users\\user\\anaconda3\\lib\\site-packages (from pyserini) (4.32.1)\n",
      "Collecting sentencepiece>=0.1.95 (from pyserini)\n",
      "  Obtaining dependency information for sentencepiece>=0.1.95 from https://files.pythonhosted.org/packages/a2/f6/587c62fd21fc988555b85351f50bbde43a51524caafd63bc69240ded14fd/sentencepiece-0.2.0-cp311-cp311-win_amd64.whl.metadata\n",
      "  Using cached sentencepiece-0.2.0-cp311-cp311-win_amd64.whl.metadata (8.3 kB)\n",
      "Collecting nmslib>=2.0.6 (from pyserini)\n",
      "  Using cached nmslib-2.1.1.tar.gz (188 kB)\n",
      "  Preparing metadata (setup.py): started\n",
      "  Preparing metadata (setup.py): finished with status 'done'\n",
      "Collecting onnxruntime>=1.8.1 (from pyserini)\n",
      "  Obtaining dependency information for onnxruntime>=1.8.1 from https://files.pythonhosted.org/packages/99/b2/488704f6298ac249015f65b64c24bf5611fcf2594ab0e75fa6bcce5e873f/onnxruntime-1.18.1-cp311-cp311-win_amd64.whl.metadata\n",
      "  Using cached onnxruntime-1.18.1-cp311-cp311-win_amd64.whl.metadata (4.5 kB)\n",
      "Collecting lightgbm>=3.3.2 (from pyserini)\n",
      "  Obtaining dependency information for lightgbm>=3.3.2 from https://files.pythonhosted.org/packages/ca/b4/57f3f253721e0a16ea28c49acca92c5b1198eb94fbbb8328d6dabc61d2e0/lightgbm-4.4.0-py3-none-win_amd64.whl.metadata\n",
      "  Using cached lightgbm-4.4.0-py3-none-win_amd64.whl.metadata (19 kB)\n",
      "Collecting spacy>=3.2.1 (from pyserini)\n",
      "  Obtaining dependency information for spacy>=3.2.1 from https://files.pythonhosted.org/packages/39/e1/08681583569f435347ced0535b27c073fcc9a927d9b4293c963092f2d01c/spacy-3.7.5-cp311-cp311-win_amd64.whl.metadata\n",
      "  Using cached spacy-3.7.5-cp311-cp311-win_amd64.whl.metadata (27 kB)\n",
      "Requirement already satisfied: pyyaml in c:\\users\\user\\anaconda3\\lib\\site-packages (from pyserini) (6.0)\n",
      "Collecting openai>=1.0.0 (from pyserini)\n",
      "  Obtaining dependency information for openai>=1.0.0 from https://files.pythonhosted.org/packages/ad/11/7f75f22019777c18c933df6cc0fff4095df3b35f087a1a4c2bd3ca841bd1/openai-1.37.0-py3-none-any.whl.metadata\n",
      "  Using cached openai-1.37.0-py3-none-any.whl.metadata (22 kB)\n",
      "Collecting tiktoken>=0.4.0 (from pyserini)\n",
      "  Obtaining dependency information for tiktoken>=0.4.0 from https://files.pythonhosted.org/packages/b1/10/c04b4ff592a5f46b28ebf4c2353f735c02ae7f0ce1b165d00748ced6467e/tiktoken-0.7.0-cp311-cp311-win_amd64.whl.metadata\n",
      "  Using cached tiktoken-0.7.0-cp311-cp311-win_amd64.whl.metadata (6.8 kB)\n",
      "Collecting pyarrow>=15.0.0 (from pyserini)\n",
      "  Obtaining dependency information for pyarrow>=15.0.0 from https://files.pythonhosted.org/packages/30/d1/63a7c248432c71c7d3ee803e706590a0b81ce1a8d2b2ae49677774b813bb/pyarrow-17.0.0-cp311-cp311-win_amd64.whl.metadata\n",
      "  Using cached pyarrow-17.0.0-cp311-cp311-win_amd64.whl.metadata (3.4 kB)\n",
      "Collecting pillow>=10.2.0 (from pyserini)\n",
      "  Obtaining dependency information for pillow>=10.2.0 from https://files.pythonhosted.org/packages/c1/d0/5866318eec2b801cdb8c82abf190c8343d8a1cd8bf5a0c17444a6f268291/pillow-10.4.0-cp311-cp311-win_amd64.whl.metadata\n",
      "  Using cached pillow-10.4.0-cp311-cp311-win_amd64.whl.metadata (9.3 kB)\n",
      "Collecting pybind11>=2.11.0 (from pyserini)\n",
      "  Obtaining dependency information for pybind11>=2.11.0 from https://files.pythonhosted.org/packages/84/fb/1a249de406daf2b4ebd2d714b739e8519034617daec085e3833c1a3ed57c/pybind11-2.13.1-py3-none-any.whl.metadata\n",
      "  Using cached pybind11-2.13.1-py3-none-any.whl.metadata (9.5 kB)\n",
      "INFO: pip is looking at multiple versions of nmslib to determine which version is compatible with other requirements. This could take a while.\n",
      "Collecting nmslib>=2.0.6 (from pyserini)\n",
      "  Using cached nmslib-2.0.6.tar.gz (182 kB)\n",
      "  Preparing metadata (setup.py): started\n",
      "  Preparing metadata (setup.py): finished with status 'done'\n",
      "Requirement already satisfied: psutil in c:\\users\\user\\anaconda3\\lib\\site-packages (from nmslib>=2.0.6->pyserini) (5.9.0)\n",
      "Collecting coloredlogs (from onnxruntime>=1.8.1->pyserini)\n",
      "  Obtaining dependency information for coloredlogs from https://files.pythonhosted.org/packages/a7/06/3d6badcf13db419e25b07041d9c7b4a2c331d3f4e7134445ec5df57714cd/coloredlogs-15.0.1-py2.py3-none-any.whl.metadata\n",
      "  Using cached coloredlogs-15.0.1-py2.py3-none-any.whl.metadata (12 kB)\n",
      "Collecting flatbuffers (from onnxruntime>=1.8.1->pyserini)\n",
      "  Obtaining dependency information for flatbuffers from https://files.pythonhosted.org/packages/41/f0/7e988a019bc54b2dbd0ad4182ef2d53488bb02e58694cd79d61369e85900/flatbuffers-24.3.25-py2.py3-none-any.whl.metadata\n",
      "  Using cached flatbuffers-24.3.25-py2.py3-none-any.whl.metadata (850 bytes)\n",
      "Requirement already satisfied: packaging in c:\\users\\user\\anaconda3\\lib\\site-packages (from onnxruntime>=1.8.1->pyserini) (23.1)\n",
      "Collecting protobuf (from onnxruntime>=1.8.1->pyserini)\n",
      "  Obtaining dependency information for protobuf from https://files.pythonhosted.org/packages/b1/04/73b8fd7f34f3a2b2b64aa31a173b8aebbdb0c55523df4c027846bb44bc1e/protobuf-5.27.2-cp310-abi3-win_amd64.whl.metadata\n",
      "  Using cached protobuf-5.27.2-cp310-abi3-win_amd64.whl.metadata (592 bytes)\n",
      "Requirement already satisfied: sympy in c:\\users\\user\\anaconda3\\lib\\site-packages (from onnxruntime>=1.8.1->pyserini) (1.11.1)\n",
      "Requirement already satisfied: anyio<5,>=3.5.0 in c:\\users\\user\\anaconda3\\lib\\site-packages (from openai>=1.0.0->pyserini) (3.5.0)\n",
      "Collecting distro<2,>=1.7.0 (from openai>=1.0.0->pyserini)\n",
      "  Obtaining dependency information for distro<2,>=1.7.0 from https://files.pythonhosted.org/packages/12/b3/231ffd4ab1fc9d679809f356cebee130ac7daa00d6d6f3206dd4fd137e9e/distro-1.9.0-py3-none-any.whl.metadata\n",
      "  Using cached distro-1.9.0-py3-none-any.whl.metadata (6.8 kB)\n",
      "Collecting httpx<1,>=0.23.0 (from openai>=1.0.0->pyserini)\n",
      "  Obtaining dependency information for httpx<1,>=0.23.0 from https://files.pythonhosted.org/packages/41/7b/ddacf6dcebb42466abd03f368782142baa82e08fc0c1f8eaa05b4bae87d5/httpx-0.27.0-py3-none-any.whl.metadata\n",
      "  Using cached httpx-0.27.0-py3-none-any.whl.metadata (7.2 kB)\n",
      "Requirement already satisfied: pydantic<3,>=1.9.0 in c:\\users\\user\\anaconda3\\lib\\site-packages (from openai>=1.0.0->pyserini) (2.5.2)\n",
      "Requirement already satisfied: sniffio in c:\\users\\user\\anaconda3\\lib\\site-packages (from openai>=1.0.0->pyserini) (1.2.0)\n",
      "Requirement already satisfied: typing-extensions<5,>=4.7 in c:\\users\\user\\anaconda3\\lib\\site-packages (from openai>=1.0.0->pyserini) (4.10.0)\n",
      "Requirement already satisfied: python-dateutil>=2.8.2 in c:\\users\\user\\anaconda3\\lib\\site-packages (from pandas>=1.4.0->pyserini) (2.8.2)\n",
      "Requirement already satisfied: pytz>=2020.1 in c:\\users\\user\\anaconda3\\lib\\site-packages (from pandas>=1.4.0->pyserini) (2023.3.post1)\n",
      "Requirement already satisfied: tzdata>=2022.1 in c:\\users\\user\\anaconda3\\lib\\site-packages (from pandas>=1.4.0->pyserini) (2023.3)\n",
      "Requirement already satisfied: joblib>=1.2.0 in c:\\users\\user\\anaconda3\\lib\\site-packages (from scikit-learn>=0.22.1->pyserini) (1.2.0)\n",
      "Requirement already satisfied: threadpoolctl>=2.0.0 in c:\\users\\user\\anaconda3\\lib\\site-packages (from scikit-learn>=0.22.1->pyserini) (2.2.0)\n",
      "Collecting spacy-legacy<3.1.0,>=3.0.11 (from spacy>=3.2.1->pyserini)\n",
      "  Obtaining dependency information for spacy-legacy<3.1.0,>=3.0.11 from https://files.pythonhosted.org/packages/c3/55/12e842c70ff8828e34e543a2c7176dac4da006ca6901c9e8b43efab8bc6b/spacy_legacy-3.0.12-py2.py3-none-any.whl.metadata\n",
      "  Using cached spacy_legacy-3.0.12-py2.py3-none-any.whl.metadata (2.8 kB)\n",
      "Collecting spacy-loggers<2.0.0,>=1.0.0 (from spacy>=3.2.1->pyserini)\n",
      "  Obtaining dependency information for spacy-loggers<2.0.0,>=1.0.0 from https://files.pythonhosted.org/packages/33/78/d1a1a026ef3af911159398c939b1509d5c36fe524c7b644f34a5146c4e16/spacy_loggers-1.0.5-py3-none-any.whl.metadata\n",
      "  Using cached spacy_loggers-1.0.5-py3-none-any.whl.metadata (23 kB)\n",
      "Collecting murmurhash<1.1.0,>=0.28.0 (from spacy>=3.2.1->pyserini)\n",
      "  Obtaining dependency information for murmurhash<1.1.0,>=0.28.0 from https://files.pythonhosted.org/packages/71/46/af01a20ec368bd9cb49a1d2df15e3eca113bbf6952cc1f2a47f1c6801a7f/murmurhash-1.0.10-cp311-cp311-win_amd64.whl.metadata\n",
      "  Using cached murmurhash-1.0.10-cp311-cp311-win_amd64.whl.metadata (2.0 kB)\n",
      "Collecting cymem<2.1.0,>=2.0.2 (from spacy>=3.2.1->pyserini)\n",
      "  Obtaining dependency information for cymem<2.1.0,>=2.0.2 from https://files.pythonhosted.org/packages/c1/c3/dd044e6f62a3d317c461f6f0c153c6573ed13025752d779e514000c15dd2/cymem-2.0.8-cp311-cp311-win_amd64.whl.metadata\n",
      "  Using cached cymem-2.0.8-cp311-cp311-win_amd64.whl.metadata (8.6 kB)\n",
      "Collecting preshed<3.1.0,>=3.0.2 (from spacy>=3.2.1->pyserini)\n",
      "  Obtaining dependency information for preshed<3.1.0,>=3.0.2 from https://files.pythonhosted.org/packages/e4/fc/78cdbdb79f5d6d45949e72c32445d6c060977ad50a1dcfc0392622165f7c/preshed-3.0.9-cp311-cp311-win_amd64.whl.metadata\n",
      "  Using cached preshed-3.0.9-cp311-cp311-win_amd64.whl.metadata (2.2 kB)\n",
      "Collecting thinc<8.3.0,>=8.2.2 (from spacy>=3.2.1->pyserini)\n",
      "  Obtaining dependency information for thinc<8.3.0,>=8.2.2 from https://files.pythonhosted.org/packages/5e/0e/5e7b24e046e0725eafc37ded0cd9bfaf789efb894101a7aca8a73dba81de/thinc-8.2.5-cp311-cp311-win_amd64.whl.metadata\n",
      "  Using cached thinc-8.2.5-cp311-cp311-win_amd64.whl.metadata (15 kB)\n",
      "Collecting wasabi<1.2.0,>=0.9.1 (from spacy>=3.2.1->pyserini)\n",
      "  Obtaining dependency information for wasabi<1.2.0,>=0.9.1 from https://files.pythonhosted.org/packages/06/7c/34330a89da55610daa5f245ddce5aab81244321101614751e7537f125133/wasabi-1.1.3-py3-none-any.whl.metadata\n",
      "  Using cached wasabi-1.1.3-py3-none-any.whl.metadata (28 kB)\n",
      "Collecting srsly<3.0.0,>=2.4.3 (from spacy>=3.2.1->pyserini)\n",
      "  Obtaining dependency information for srsly<3.0.0,>=2.4.3 from https://files.pythonhosted.org/packages/eb/f5/e3f29993f673d91623df6413ba64e815dd2676fd7932cbc5e7347402ddae/srsly-2.4.8-cp311-cp311-win_amd64.whl.metadata\n",
      "  Using cached srsly-2.4.8-cp311-cp311-win_amd64.whl.metadata (20 kB)\n",
      "Collecting catalogue<2.1.0,>=2.0.6 (from spacy>=3.2.1->pyserini)\n",
      "  Obtaining dependency information for catalogue<2.1.0,>=2.0.6 from https://files.pythonhosted.org/packages/9e/96/d32b941a501ab566a16358d68b6eb4e4acc373fab3c3c4d7d9e649f7b4bb/catalogue-2.0.10-py3-none-any.whl.metadata\n",
      "  Using cached catalogue-2.0.10-py3-none-any.whl.metadata (14 kB)\n",
      "Collecting weasel<0.5.0,>=0.1.0 (from spacy>=3.2.1->pyserini)\n",
      "  Obtaining dependency information for weasel<0.5.0,>=0.1.0 from https://files.pythonhosted.org/packages/2a/87/abd57374044e1f627f0a905ac33c1a7daab35a3a815abfea4e1bafd3fdb1/weasel-0.4.1-py3-none-any.whl.metadata\n",
      "  Using cached weasel-0.4.1-py3-none-any.whl.metadata (4.6 kB)\n",
      "Collecting typer<1.0.0,>=0.3.0 (from spacy>=3.2.1->pyserini)\n",
      "  Obtaining dependency information for typer<1.0.0,>=0.3.0 from https://files.pythonhosted.org/packages/20/b5/11cf2e34fbb11b937e006286ab5b8cfd334fde1c8fa4dd7f491226931180/typer-0.12.3-py3-none-any.whl.metadata\n",
      "  Using cached typer-0.12.3-py3-none-any.whl.metadata (15 kB)\n",
      "Requirement already satisfied: requests<3.0.0,>=2.13.0 in c:\\users\\user\\anaconda3\\lib\\site-packages (from spacy>=3.2.1->pyserini) (2.31.0)\n",
      "Requirement already satisfied: jinja2 in c:\\users\\user\\anaconda3\\lib\\site-packages (from spacy>=3.2.1->pyserini) (3.1.2)\n",
      "Requirement already satisfied: setuptools in c:\\users\\user\\anaconda3\\lib\\site-packages (from spacy>=3.2.1->pyserini) (68.0.0)\n",
      "Collecting langcodes<4.0.0,>=3.2.0 (from spacy>=3.2.1->pyserini)\n",
      "  Obtaining dependency information for langcodes<4.0.0,>=3.2.0 from https://files.pythonhosted.org/packages/58/70/4058ab0ebb082b18d06888e711baed7f33354a5e0b363bb627586d8c323a/langcodes-3.4.0-py3-none-any.whl.metadata\n",
      "  Using cached langcodes-3.4.0-py3-none-any.whl.metadata (29 kB)\n",
      "Requirement already satisfied: regex>=2022.1.18 in c:\\users\\user\\anaconda3\\lib\\site-packages (from tiktoken>=0.4.0->pyserini) (2022.7.9)\n",
      "Requirement already satisfied: colorama in c:\\users\\user\\anaconda3\\lib\\site-packages (from tqdm->pyserini) (0.4.6)\n",
      "Requirement already satisfied: filelock in c:\\users\\user\\anaconda3\\lib\\site-packages (from transformers>=4.6.0->pyserini) (3.9.0)\n",
      "Requirement already satisfied: huggingface-hub<1.0,>=0.15.1 in c:\\users\\user\\anaconda3\\lib\\site-packages (from transformers>=4.6.0->pyserini) (0.15.1)\n",
      "Requirement already satisfied: tokenizers!=0.11.3,<0.14,>=0.11.1 in c:\\users\\user\\anaconda3\\lib\\site-packages (from transformers>=4.6.0->pyserini) (0.13.2)\n",
      "Requirement already satisfied: safetensors>=0.3.1 in c:\\users\\user\\anaconda3\\lib\\site-packages (from transformers>=4.6.0->pyserini) (0.3.2)\n",
      "Requirement already satisfied: idna>=2.8 in c:\\users\\user\\anaconda3\\lib\\site-packages (from anyio<5,>=3.5.0->openai>=1.0.0->pyserini) (3.4)\n",
      "Requirement already satisfied: certifi in c:\\users\\user\\anaconda3\\lib\\site-packages (from httpx<1,>=0.23.0->openai>=1.0.0->pyserini) (2023.7.22)\n",
      "Collecting httpcore==1.* (from httpx<1,>=0.23.0->openai>=1.0.0->pyserini)\n",
      "  Obtaining dependency information for httpcore==1.* from https://files.pythonhosted.org/packages/78/d4/e5d7e4f2174f8a4d63c8897d79eb8fe2503f7ecc03282fee1fa2719c2704/httpcore-1.0.5-py3-none-any.whl.metadata\n",
      "  Using cached httpcore-1.0.5-py3-none-any.whl.metadata (20 kB)\n",
      "Collecting h11<0.15,>=0.13 (from httpcore==1.*->httpx<1,>=0.23.0->openai>=1.0.0->pyserini)\n",
      "  Obtaining dependency information for h11<0.15,>=0.13 from https://files.pythonhosted.org/packages/95/04/ff642e65ad6b90db43e668d70ffb6736436c7ce41fcc549f4e9472234127/h11-0.14.0-py3-none-any.whl.metadata\n",
      "  Using cached h11-0.14.0-py3-none-any.whl.metadata (8.2 kB)\n",
      "Requirement already satisfied: fsspec in c:\\users\\user\\anaconda3\\lib\\site-packages (from huggingface-hub<1.0,>=0.15.1->transformers>=4.6.0->pyserini) (2023.4.0)\n",
      "Collecting language-data>=1.2 (from langcodes<4.0.0,>=3.2.0->spacy>=3.2.1->pyserini)\n",
      "  Obtaining dependency information for language-data>=1.2 from https://files.pythonhosted.org/packages/12/5f/139464da89c49afcc8bb97ebad48818a535220ce01b1f24c61fb80dbe4d0/language_data-1.2.0-py3-none-any.whl.metadata\n",
      "  Using cached language_data-1.2.0-py3-none-any.whl.metadata (4.3 kB)\n",
      "Requirement already satisfied: annotated-types>=0.4.0 in c:\\users\\user\\anaconda3\\lib\\site-packages (from pydantic<3,>=1.9.0->openai>=1.0.0->pyserini) (0.6.0)\n",
      "Requirement already satisfied: pydantic-core==2.14.5 in c:\\users\\user\\anaconda3\\lib\\site-packages (from pydantic<3,>=1.9.0->openai>=1.0.0->pyserini) (2.14.5)\n",
      "Requirement already satisfied: six>=1.5 in c:\\users\\user\\anaconda3\\lib\\site-packages (from python-dateutil>=2.8.2->pandas>=1.4.0->pyserini) (1.16.0)\n",
      "Requirement already satisfied: charset-normalizer<4,>=2 in c:\\users\\user\\anaconda3\\lib\\site-packages (from requests<3.0.0,>=2.13.0->spacy>=3.2.1->pyserini) (2.0.4)\n",
      "Requirement already satisfied: urllib3<3,>=1.21.1 in c:\\users\\user\\anaconda3\\lib\\site-packages (from requests<3.0.0,>=2.13.0->spacy>=3.2.1->pyserini) (1.26.16)\n",
      "Collecting blis<0.8.0,>=0.7.8 (from thinc<8.3.0,>=8.2.2->spacy>=3.2.1->pyserini)\n",
      "  Obtaining dependency information for blis<0.8.0,>=0.7.8 from https://files.pythonhosted.org/packages/2f/09/da0592c74560cc33396504698122f7a56747c82a5e072ca7d2c3397898e1/blis-0.7.11-cp311-cp311-win_amd64.whl.metadata\n",
      "  Using cached blis-0.7.11-cp311-cp311-win_amd64.whl.metadata (7.6 kB)\n",
      "Collecting confection<1.0.0,>=0.0.1 (from thinc<8.3.0,>=8.2.2->spacy>=3.2.1->pyserini)\n",
      "  Obtaining dependency information for confection<1.0.0,>=0.0.1 from https://files.pythonhosted.org/packages/0c/00/3106b1854b45bd0474ced037dfe6b73b90fe68a68968cef47c23de3d43d2/confection-0.1.5-py3-none-any.whl.metadata\n",
      "  Using cached confection-0.1.5-py3-none-any.whl.metadata (19 kB)\n",
      "Requirement already satisfied: click>=8.0.0 in c:\\users\\user\\anaconda3\\lib\\site-packages (from typer<1.0.0,>=0.3.0->spacy>=3.2.1->pyserini) (8.0.4)\n",
      "Collecting shellingham>=1.3.0 (from typer<1.0.0,>=0.3.0->spacy>=3.2.1->pyserini)\n",
      "  Obtaining dependency information for shellingham>=1.3.0 from https://files.pythonhosted.org/packages/e0/f9/0595336914c5619e5f28a1fb793285925a8cd4b432c9da0a987836c7f822/shellingham-1.5.4-py2.py3-none-any.whl.metadata\n",
      "  Using cached shellingham-1.5.4-py2.py3-none-any.whl.metadata (3.5 kB)\n",
      "Collecting rich>=10.11.0 (from typer<1.0.0,>=0.3.0->spacy>=3.2.1->pyserini)\n",
      "  Obtaining dependency information for rich>=10.11.0 from https://files.pythonhosted.org/packages/87/67/a37f6214d0e9fe57f6ae54b2956d550ca8365857f42a1ce0392bb21d9410/rich-13.7.1-py3-none-any.whl.metadata\n",
      "  Using cached rich-13.7.1-py3-none-any.whl.metadata (18 kB)\n",
      "Collecting cloudpathlib<1.0.0,>=0.7.0 (from weasel<0.5.0,>=0.1.0->spacy>=3.2.1->pyserini)\n",
      "  Obtaining dependency information for cloudpathlib<1.0.0,>=0.7.0 from https://files.pythonhosted.org/packages/bc/ba/d8f2c0151585519759135550574385dd7a223abbc6b6c06dab7ada565773/cloudpathlib-0.18.1-py3-none-any.whl.metadata\n",
      "  Using cached cloudpathlib-0.18.1-py3-none-any.whl.metadata (14 kB)\n",
      "Requirement already satisfied: smart-open<8.0.0,>=5.2.1 in c:\\users\\user\\anaconda3\\lib\\site-packages (from weasel<0.5.0,>=0.1.0->spacy>=3.2.1->pyserini) (5.2.1)\n",
      "Collecting humanfriendly>=9.1 (from coloredlogs->onnxruntime>=1.8.1->pyserini)\n",
      "  Obtaining dependency information for humanfriendly>=9.1 from https://files.pythonhosted.org/packages/f0/0f/310fb31e39e2d734ccaa2c0fb981ee41f7bd5056ce9bc29b2248bd569169/humanfriendly-10.0-py2.py3-none-any.whl.metadata\n",
      "  Using cached humanfriendly-10.0-py2.py3-none-any.whl.metadata (9.2 kB)\n",
      "Requirement already satisfied: MarkupSafe>=2.0 in c:\\users\\user\\anaconda3\\lib\\site-packages (from jinja2->spacy>=3.2.1->pyserini) (2.1.1)\n",
      "Requirement already satisfied: mpmath>=0.19 in c:\\users\\user\\anaconda3\\lib\\site-packages (from sympy->onnxruntime>=1.8.1->pyserini) (1.3.0)\n",
      "Collecting pyreadline3 (from humanfriendly>=9.1->coloredlogs->onnxruntime>=1.8.1->pyserini)\n",
      "  Obtaining dependency information for pyreadline3 from https://files.pythonhosted.org/packages/56/fc/a3c13ded7b3057680c8ae95a9b6cc83e63657c38e0005c400a5d018a33a7/pyreadline3-3.4.1-py3-none-any.whl.metadata\n",
      "  Using cached pyreadline3-3.4.1-py3-none-any.whl.metadata (2.0 kB)\n",
      "Collecting marisa-trie>=0.7.7 (from language-data>=1.2->langcodes<4.0.0,>=3.2.0->spacy>=3.2.1->pyserini)\n",
      "  Obtaining dependency information for marisa-trie>=0.7.7 from https://files.pythonhosted.org/packages/61/28/b93cd14cd422be8fc091bd454dd48edbf0c2333111183db38c8e5a13e468/marisa_trie-1.2.0-cp311-cp311-win_amd64.whl.metadata\n",
      "  Using cached marisa_trie-1.2.0-cp311-cp311-win_amd64.whl.metadata (9.0 kB)\n",
      "Requirement already satisfied: markdown-it-py>=2.2.0 in c:\\users\\user\\anaconda3\\lib\\site-packages (from rich>=10.11.0->typer<1.0.0,>=0.3.0->spacy>=3.2.1->pyserini) (2.2.0)\n",
      "Requirement already satisfied: pygments<3.0.0,>=2.13.0 in c:\\users\\user\\anaconda3\\lib\\site-packages (from rich>=10.11.0->typer<1.0.0,>=0.3.0->spacy>=3.2.1->pyserini) (2.15.1)\n",
      "Requirement already satisfied: mdurl~=0.1 in c:\\users\\user\\anaconda3\\lib\\site-packages (from markdown-it-py>=2.2.0->rich>=10.11.0->typer<1.0.0,>=0.3.0->spacy>=3.2.1->pyserini) (0.1.0)\n",
      "Using cached pyserini-0.36.0-py3-none-any.whl (182.9 MB)\n",
      "Using cached Cython-3.0.10-cp311-cp311-win_amd64.whl (2.8 MB)\n",
      "Using cached lightgbm-4.4.0-py3-none-win_amd64.whl (1.4 MB)\n",
      "Using cached onnxruntime-1.18.1-cp311-cp311-win_amd64.whl (5.6 MB)\n",
      "Using cached openai-1.37.0-py3-none-any.whl (337 kB)\n",
      "Using cached pillow-10.4.0-cp311-cp311-win_amd64.whl (2.6 MB)\n",
      "Using cached pyarrow-17.0.0-cp311-cp311-win_amd64.whl (25.2 MB)\n",
      "Using cached pybind11-2.13.1-py3-none-any.whl (238 kB)\n",
      "Using cached pyjnius-1.6.1-cp311-cp311-win_amd64.whl (224 kB)\n",
      "Using cached sentencepiece-0.2.0-cp311-cp311-win_amd64.whl (991 kB)\n",
      "Using cached spacy-3.7.5-cp311-cp311-win_amd64.whl (12.1 MB)\n",
      "Using cached tiktoken-0.7.0-cp311-cp311-win_amd64.whl (799 kB)\n",
      "Using cached catalogue-2.0.10-py3-none-any.whl (17 kB)\n",
      "Using cached cymem-2.0.8-cp311-cp311-win_amd64.whl (39 kB)\n",
      "Using cached distro-1.9.0-py3-none-any.whl (20 kB)\n",
      "Using cached httpx-0.27.0-py3-none-any.whl (75 kB)\n",
      "Using cached httpcore-1.0.5-py3-none-any.whl (77 kB)\n",
      "Using cached langcodes-3.4.0-py3-none-any.whl (182 kB)\n",
      "Using cached murmurhash-1.0.10-cp311-cp311-win_amd64.whl (25 kB)\n",
      "Using cached preshed-3.0.9-cp311-cp311-win_amd64.whl (122 kB)\n",
      "Using cached spacy_legacy-3.0.12-py2.py3-none-any.whl (29 kB)\n",
      "Using cached spacy_loggers-1.0.5-py3-none-any.whl (22 kB)\n",
      "Using cached srsly-2.4.8-cp311-cp311-win_amd64.whl (479 kB)\n",
      "Using cached thinc-8.2.5-cp311-cp311-win_amd64.whl (1.5 MB)\n",
      "Using cached typer-0.12.3-py3-none-any.whl (47 kB)\n",
      "Using cached wasabi-1.1.3-py3-none-any.whl (27 kB)\n",
      "Using cached weasel-0.4.1-py3-none-any.whl (50 kB)\n",
      "Using cached coloredlogs-15.0.1-py2.py3-none-any.whl (46 kB)\n",
      "Using cached flatbuffers-24.3.25-py2.py3-none-any.whl (26 kB)\n",
      "Using cached protobuf-5.27.2-cp310-abi3-win_amd64.whl (426 kB)\n",
      "Using cached blis-0.7.11-cp311-cp311-win_amd64.whl (6.6 MB)\n",
      "Using cached cloudpathlib-0.18.1-py3-none-any.whl (47 kB)\n",
      "Using cached confection-0.1.5-py3-none-any.whl (35 kB)\n",
      "Using cached humanfriendly-10.0-py2.py3-none-any.whl (86 kB)\n",
      "Using cached language_data-1.2.0-py3-none-any.whl (5.4 MB)\n",
      "Using cached rich-13.7.1-py3-none-any.whl (240 kB)\n",
      "Using cached shellingham-1.5.4-py2.py3-none-any.whl (9.8 kB)\n",
      "Using cached h11-0.14.0-py3-none-any.whl (58 kB)\n",
      "Using cached marisa_trie-1.2.0-cp311-cp311-win_amd64.whl (152 kB)\n",
      "Using cached pyreadline3-3.4.1-py3-none-any.whl (95 kB)\n",
      "Building wheels for collected packages: nmslib\n",
      "  Building wheel for nmslib (setup.py): started\n",
      "  Building wheel for nmslib (setup.py): finished with status 'error'\n",
      "  Running setup.py clean for nmslib\n",
      "Failed to build nmslib\n"
     ]
    },
    {
     "name": "stderr",
     "output_type": "stream",
     "text": [
      "  error: subprocess-exited-with-error\n",
      "  \n",
      "  × python setup.py bdist_wheel did not run successfully.\n",
      "  │ exit code: 1\n",
      "  ╰─> [47 lines of output]\n",
      "      Dependence list: ['pybind11>=2.2.3', 'psutil', 'numpy>=1.10.0']\n",
      "      C:\\Users\\USER\\anaconda3\\Lib\\site-packages\\setuptools\\dist.py:745: SetuptoolsDeprecationWarning: Invalid dash-separated options\n",
      "      !!\n",
      "      \n",
      "              ********************************************************************************\n",
      "              Usage of dash-separated 'description-file' will not be supported in future\n",
      "              versions. Please use the underscore name 'description_file' instead.\n",
      "      \n",
      "              This deprecation is overdue, please update your project and remove deprecated\n",
      "              calls to avoid build errors in the future.\n",
      "      \n",
      "              See https://setuptools.pypa.io/en/latest/userguide/declarative_config.html for details.\n",
      "              ********************************************************************************\n",
      "      \n",
      "      !!\n",
      "        opt = self.warn_dash_deprecation(opt, section)\n",
      "      C:\\Users\\USER\\anaconda3\\Lib\\site-packages\\setuptools\\__init__.py:84: _DeprecatedInstaller: setuptools.installer and fetch_build_eggs are deprecated.\n",
      "      !!\n",
      "      \n",
      "              ********************************************************************************\n",
      "              Requirements should be satisfied by a PEP 517 installer.\n",
      "              If you are using pip, you can try `pip install --use-pep517`.\n",
      "              ********************************************************************************\n",
      "      \n",
      "      !!\n",
      "        dist.fetch_build_eggs(dist.setup_requires)\n",
      "      C:\\Users\\USER\\anaconda3\\Lib\\site-packages\\setuptools\\dist.py:745: SetuptoolsDeprecationWarning: Invalid dash-separated options\n",
      "      !!\n",
      "      \n",
      "              ********************************************************************************\n",
      "              Usage of dash-separated 'description-file' will not be supported in future\n",
      "              versions. Please use the underscore name 'description_file' instead.\n",
      "      \n",
      "              This deprecation is overdue, please update your project and remove deprecated\n",
      "              calls to avoid build errors in the future.\n",
      "      \n",
      "              See https://setuptools.pypa.io/en/latest/userguide/declarative_config.html for details.\n",
      "              ********************************************************************************\n",
      "      \n",
      "      !!\n",
      "        opt = self.warn_dash_deprecation(opt, section)\n",
      "      running bdist_wheel\n",
      "      running build\n",
      "      running build_ext\n",
      "      Extra compilation arguments: ['/EHsc', '/openmp', '/O2', '/DVERSION_INFO=\\\\\"2.0.6\\\\\"']\n",
      "      building 'nmslib' extension\n",
      "      error: Microsoft Visual C++ 14.0 or greater is required. Get it with \"Microsoft C++ Build Tools\": https://visualstudio.microsoft.com/visual-cpp-build-tools/\n",
      "      [end of output]\n",
      "  \n",
      "  note: This error originates from a subprocess, and is likely not a problem with pip.\n",
      "  ERROR: Failed building wheel for nmslib\n",
      "ERROR: Could not build wheels for nmslib, which is required to install pyproject.toml-based projects\n"
     ]
    }
   ],
   "source": [
    "! pip install pyserini"
   ]
  },
  {
   "cell_type": "code",
   "execution_count": 8,
   "metadata": {
    "ExecuteTime": {
     "end_time": "2023-12-26T05:57:04.871302400Z",
     "start_time": "2023-12-26T05:57:02.362323500Z"
    },
    "collapsed": false
   },
   "outputs": [
    {
     "ename": "ModuleNotFoundError",
     "evalue": "No module named 'pyserini'",
     "output_type": "error",
     "traceback": [
      "\u001b[1;31m---------------------------------------------------------------------------\u001b[0m",
      "\u001b[1;31mModuleNotFoundError\u001b[0m                       Traceback (most recent call last)",
      "Cell \u001b[1;32mIn[8], line 2\u001b[0m\n\u001b[0;32m      1\u001b[0m \u001b[38;5;124;03m\"\"\" For Jelinek-Mercer smoothing \"\"\"\u001b[39;00m\n\u001b[1;32m----> 2\u001b[0m \u001b[38;5;28;01mfrom\u001b[39;00m \u001b[38;5;21;01mpyserini\u001b[39;00m\u001b[38;5;21;01m.\u001b[39;00m\u001b[38;5;21;01msearch\u001b[39;00m\u001b[38;5;21;01m.\u001b[39;00m\u001b[38;5;21;01mlucene\u001b[39;00m \u001b[38;5;28;01mimport\u001b[39;00m LuceneSearcher\n\u001b[0;32m      5\u001b[0m \u001b[38;5;28;01mclass\u001b[39;00m \u001b[38;5;21;01mMyLuceneSearcher\u001b[39;00m(LuceneSearcher):\n\u001b[0;32m      6\u001b[0m     \u001b[38;5;28;01mdef\u001b[39;00m \u001b[38;5;21mset_jmlm\u001b[39m(\u001b[38;5;28mself\u001b[39m, Lambda: \u001b[38;5;28mfloat\u001b[39m \u001b[38;5;241m=\u001b[39m \u001b[38;5;241m0.9999\u001b[39m):\n",
      "\u001b[1;31mModuleNotFoundError\u001b[0m: No module named 'pyserini'"
     ]
    }
   ],
   "source": [
    "\"\"\" For Jelinek-Mercer smoothing \"\"\"\n",
    "from pyserini.search.lucene import LuceneSearcher\n",
    "\n",
    "\n",
    "class MyLuceneSearcher(LuceneSearcher):\n",
    "    def set_jmlm(self, Lambda: float = 0.9999):\n",
    "        \"\"\" Set the Jelinek-Mercer smoothing with lambda\n",
    "\n",
    "        Reference java code:\n",
    "            public void set_qld(float mu) {\n",
    "              this.similarity = new LMDirichletSimilarity(mu); # SimpleSearcher\n",
    "\n",
    "              // We need to re-initialize the searcher\n",
    "              searcher = new IndexSearcher(reader); # SimpleSearcher.searcher\n",
    "              searcher.setSimilarity(similarity); # SimpleSearcher.searcher\n",
    "            }\n",
    "        Args:\n",
    "            l (float): Lamda\n",
    "        \"\"\"\n",
    "        from jnius import autoclass\n",
    "\n",
    "        LMDirichletSimilarity = autoclass(\"org.apache.lucene.search.similarities.LMJelinekMercerSimilarity\")\n",
    "        self.object.similarity = LMDirichletSimilarity(Lambda)\n",
    "\n",
    "        # We need to re-initialize the searcher\n",
    "        IndexSearcher = autoclass(\"org.apache.lucene.search.IndexSearcher\")\n",
    "        self.object.searcher = IndexSearcher(self.object.reader)\n",
    "        self.object.searcher.setSimilarity(self.object.similarity)\n",
    "        print(\"set to jmlm with lambda = {}\".format(Lambda))"
   ]
  },
  {
   "cell_type": "code",
   "execution_count": null,
   "metadata": {
    "ExecuteTime": {
     "end_time": "2023-12-26T05:57:04.898207700Z",
     "start_time": "2023-12-26T05:57:04.885211Z"
    }
   },
   "outputs": [],
   "source": [
    "from pyserini.index.lucene import IndexReader\n",
    "from pyserini.search.lucene import LuceneSearcher, querybuilder\n",
    "from pyserini.analysis import get_lucene_analyzer\n",
    "\n",
    "fields = ['artist', 'album', 'language', 'genre']\n",
    "\n",
    "\n",
    "class Searcher():\n",
    "    def __init__(self, searcher: LuceneSearcher, reader: IndexReader, is_stemming=False) -> None:\n",
    "        self.searcher: LuceneSearcher = searcher\n",
    "        self.searcher.set_analyzer(get_lucene_analyzer(stemming=is_stemming))\n",
    "        self.total_docs = reader.stats()['documents']\n",
    "        self.mu = reader.stats()['total_terms'] / reader.stats()['unique_terms']\n",
    "\n",
    "    def song_to_contents(self, song_id):\n",
    "        return self.searcher.doc(song_id).contents() if self.searcher.doc(song_id) else \"\"\n",
    "\n",
    "    def songs_to_query(self, session, time_range, song_ids, cut_song_token=0):\n",
    "        time_min = session_to_time[session] - time_range\n",
    "        time_max = session_to_time[session] + time_range\n",
    "        contents = [self.song_to_contents(song_id) for song_id in song_ids]\n",
    "        contents = [content.split() for content in contents]\n",
    "\n",
    "        query_text = []\n",
    "        query_text_len = 0\n",
    "        count = 10\n",
    "\n",
    "        for content in contents:\n",
    "            max_song_token = count\n",
    "            is_first = True\n",
    "            first_index = -1\n",
    "            last_index = -1\n",
    "            for i in range(len(content)):\n",
    "                if max_song_token <= 0:\n",
    "                    break\n",
    "                if any(field in content[i] for field in fields):\n",
    "                    query_text.append(content[i])\n",
    "                    query_text_len += len(content[i])\n",
    "                    continue\n",
    "                int_x = session_to_time[int(content[i], 16)]\n",
    "                if time_min < int_x < time_max:\n",
    "                    if is_first:\n",
    "                        is_first = False\n",
    "                        first_index = i\n",
    "                    last_index = i\n",
    "                    query_text.append(content[i])\n",
    "                    query_text_len += len(content[i])\n",
    "                    max_song_token -= 1\n",
    "\n",
    "                if int_x > time_max:\n",
    "                    if is_first:\n",
    "                        is_first = False\n",
    "                        first_index = i - 1\n",
    "                        last_index = i - 1\n",
    "                    break\n",
    "\n",
    "            for i in range(first_index, -1, -1):\n",
    "                if max_song_token <= 0 or any(field in content[i] for field in fields):\n",
    "                    break\n",
    "                query_text.append(content[i])\n",
    "                query_text_len += len(content[i])\n",
    "                max_song_token -= 1\n",
    "\n",
    "            for i in range(last_index + 1, len(content)):\n",
    "                if max_song_token <= 0 or any(field in content[i] for field in fields):\n",
    "                    break\n",
    "                query_text.append(content[i])\n",
    "                query_text_len += len(content[i])\n",
    "                max_song_token -= 1\n",
    "\n",
    "        query_text = \" \".join(query_text)\n",
    "\n",
    "        return query_text\n",
    "\n",
    "    def set_max_clause_count(self, max_clause_count):\n",
    "        print(type(self.searcher.object.searcher))\n",
    "        print(\"Original maxCaluseCount:\", self.searcher.object.searcher.maxClauseCount)\n",
    "        self.searcher.object.searcher.setMaxClauseCount(max_clause_count)\n",
    "        print(\"Updated maxCaluseCount:\", self.searcher.object.searcher.maxClauseCount)\n",
    "\n",
    "    def search(self, queries, args):\n",
    "        # self.searcher.set_bm25(b=0, k1=0)\n",
    "        # self.searcher.set_qld(self.mu)\n",
    "        self.searcher.set_jmlm()\n",
    "\n",
    "        results = []\n",
    "\n",
    "        for session_id, qtext in tqdm(queries):\n",
    "            hits = self.searcher.search(qtext, args.k)\n",
    "            results.append([session_id, [hit.docid for hit in hits]])\n",
    "        return results"
   ]
  },
  {
   "cell_type": "code",
   "execution_count": null,
   "metadata": {
    "ExecuteTime": {
     "end_time": "2023-12-26T05:57:05.070650900Z",
     "start_time": "2023-12-26T05:57:04.896361100Z"
    }
   },
   "outputs": [
    {
     "name": "stdout",
     "output_type": "stream",
     "text": [
      "<class 'jnius.reflect.org.apache.lucene.search.IndexSearcher'>\n",
      "Original maxCaluseCount: 1024\n",
      "Updated maxCaluseCount: 1000000\n"
     ]
    }
   ],
   "source": [
    "class Arg:\n",
    "    def __init__(self, k):\n",
    "        self.k = k\n",
    "\n",
    "\n",
    "args = Arg(k=100)\n",
    "index = \"indexes/collection_jsonl_sparse\"\n",
    "stem = False\n",
    "\n",
    "luceneSearcher = MyLuceneSearcher(index)\n",
    "reader = IndexReader(index)\n",
    "searcher = Searcher(searcher=luceneSearcher, reader=reader, is_stemming=stem)\n",
    "\n",
    "max_clause_count = 1000000\n",
    "searcher.set_max_clause_count(max_clause_count)"
   ]
  },
  {
   "cell_type": "code",
   "execution_count": null,
   "metadata": {
    "ExecuteTime": {
     "end_time": "2023-12-26T06:01:13.431255600Z",
     "start_time": "2023-12-26T05:57:05.068145500Z"
    }
   },
   "outputs": [
    {
     "name": "stdout",
     "output_type": "stream",
     "text": [
      "Preparing queries...\n"
     ]
    },
    {
     "name": "stderr",
     "output_type": "stream",
     "text": [
      "100%|██████████| 143064/143064 [04:08<00:00, 576.05it/s] \n"
     ]
    }
   ],
   "source": [
    "# Prepare queries = [[session_id, query], ...]\n",
    "print(\"Preparing queries...\")\n",
    "last_n_song = 10  # TODO : check this\n",
    "queries = []\n",
    "too_long_count = 0\n",
    "for session, songs in tqdm(session_to_songs.items()):\n",
    "    qtext = searcher.songs_to_query(session, 0, songs[-5:])\n",
    "    queries.append([session, qtext])"
   ]
  },
  {
   "cell_type": "code",
   "execution_count": null,
   "metadata": {
    "ExecuteTime": {
     "end_time": "2023-12-26T06:01:13.431255600Z",
     "start_time": "2023-12-26T06:01:13.427252200Z"
    },
    "collapsed": false
   },
   "outputs": [
    {
     "data": {
      "text/plain": [
       "'artist2 album87608 language3 genrece4db56f6a48426643b08038139a8a75 7905a 29da8 2f62c 5795f 5795f ac049 71dd9 7905a 47b5b 7905a artist2 album87608 language3 genreb856b6781d370a3645c6dde0c20b3597 2e321 7f3b0 1b0bf 7a00e 6c5f6 7a00d 8d853 6423c 61982 89041 artist2 album87608 language3 genrece4db56f6a48426643b08038139a8a75 92989 98367 8d853 766f9 764aa 7bda8 8c331 69540 29b2b 80f76 artist31165878 album127736324 language3 genrece4db56f6a48426643b08038139a8a75 a9f6e 21293 3c6af 3c6af 7ca24 44804 944ea 944ea 944ea 944ea artist6278 a4c9f a4c9f 4d26c 8755c a4c9d a4c9d 4b758 9f4d1 327b9 a4c9b'"
      ]
     },
     "execution_count": 11,
     "metadata": {},
     "output_type": "execute_result"
    }
   ],
   "source": [
    "qtext"
   ]
  },
  {
   "cell_type": "code",
   "execution_count": null,
   "metadata": {
    "ExecuteTime": {
     "end_time": "2023-12-26T06:01:13.441462700Z",
     "start_time": "2023-12-26T06:01:13.431255600Z"
    },
    "collapsed": false
   },
   "outputs": [
    {
     "data": {
      "text/plain": [
       "['700a3bbe2b689e2da396bee4daafa4b2',\n",
       " '7ce1913e1511f3d77da7a0b32e640604',\n",
       " '700a3bbe2b689e2da396bee4daafa4b2',\n",
       " 'bc603ae5839065a50a23592003bf4233',\n",
       " 'c6cbfaccb4c07120a76da6b9c14e5902',\n",
       " '14b087038ee0d59c55ae0a8e6cbbe081',\n",
       " '110aed5fac7d6f46e7a667ad1261d42e',\n",
       " '488eb3b766d16e5e13009566aeb5ab5f',\n",
       " '68b5f72cb29c3ad2fffa47209597860f',\n",
       " 'a20728aa7e8122584e8b5863c7d0bc02',\n",
       " '015c340cf3a75afb53040ce0d01e6b13',\n",
       " '8a4c8f80d095a42feaedaee4cf25be84',\n",
       " '723ab216ae4e5161e397c462a1cf8954',\n",
       " 'e667f16939964f81bccad710ed0adce9',\n",
       " '1353435a907399cb65b925c6b5e3960b',\n",
       " '00cef2617cceaa2299a47a79f6100ee2',\n",
       " '605b1abcba2f893bdceaf20276be07c7',\n",
       " '3df18462598942a0e906c9327fc0e738',\n",
       " '3b4f31812ec47aaf14ab56939dbe9b57',\n",
       " '1c285118397adfe939edb78504fe6259']"
      ]
     },
     "execution_count": 12,
     "metadata": {},
     "output_type": "execute_result"
    }
   ],
   "source": [
    "songs"
   ]
  },
  {
   "cell_type": "code",
   "execution_count": null,
   "metadata": {
    "ExecuteTime": {
     "end_time": "2023-12-26T06:28:02.163755400Z",
     "start_time": "2023-12-26T06:01:13.484017600Z"
    }
   },
   "outputs": [
    {
     "name": "stdout",
     "output_type": "stream",
     "text": [
      "Searching...\n"
     ]
    },
    {
     "ename": "NameError",
     "evalue": "name 'searcher' is not defined",
     "output_type": "error",
     "traceback": [
      "\u001b[1;31m---------------------------------------------------------------------------\u001b[0m",
      "\u001b[1;31mNameError\u001b[0m                                 Traceback (most recent call last)",
      "Cell \u001b[1;32mIn[8], line 2\u001b[0m\n\u001b[0;32m      1\u001b[0m \u001b[38;5;28mprint\u001b[39m(\u001b[38;5;124m\"\u001b[39m\u001b[38;5;124mSearching...\u001b[39m\u001b[38;5;124m\"\u001b[39m)\n\u001b[1;32m----> 2\u001b[0m results \u001b[38;5;241m=\u001b[39m searcher\u001b[38;5;241m.\u001b[39msearch(queries, args)\n",
      "\u001b[1;31mNameError\u001b[0m: name 'searcher' is not defined"
     ]
    }
   ],
   "source": [
    "print(\"Searching...\")\n",
    "results = searcher.search(queries, args)"
   ]
  },
  {
   "cell_type": "code",
   "execution_count": null,
   "metadata": {
    "ExecuteTime": {
     "end_time": "2023-12-26T06:28:05.459023400Z",
     "start_time": "2023-12-26T06:28:02.157750600Z"
    },
    "collapsed": false
   },
   "outputs": [],
   "source": [
    "import pickle\n",
    "\n",
    "with open('jmlm_0.9999_token10.pkl', 'wb') as file:\n",
    "    pickle.dump(results, file)"
   ]
  }
 ],
 "metadata": {
  "kernelspec": {
   "display_name": "pyserini",
   "language": "python",
   "name": "python3"
  },
  "language_info": {
   "codemirror_mode": {
    "name": "ipython",
    "version": 3
   },
   "file_extension": ".py",
   "mimetype": "text/x-python",
   "name": "python",
   "nbconvert_exporter": "python",
   "pygments_lexer": "ipython3",
   "version": "3.11.5"
  }
 },
 "nbformat": 4,
 "nbformat_minor": 2
}
